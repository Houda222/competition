{
 "cells": [
  {
   "cell_type": "code",
   "execution_count": 33,
   "metadata": {},
   "outputs": [],
   "source": [
    "import os\n",
    "import shutil\n",
    "import pandas as pd\n",
    "import cv2\n"
   ]
  },
  {
   "cell_type": "code",
   "execution_count": 34,
   "metadata": {},
   "outputs": [],
   "source": [
    "labels = pd.read_csv('train_labels.csv')"
   ]
  },
  {
   "cell_type": "code",
   "execution_count": 35,
   "metadata": {},
   "outputs": [],
   "source": [
    "source_dir = 'images'\n",
    "destination_dir = 'haaa'\n",
    "nb_images = 10\n",
    "counter = 0"
   ]
  },
  {
   "cell_type": "code",
   "execution_count": 36,
   "metadata": {},
   "outputs": [],
   "source": [
    "nb_train = int(nb_images*0.8)\n",
    "nb_val = int(nb_images*0.2)\n",
    "\n",
    "train_imgs, val_imgs = os.listdir(source_dir)[:nb_train], os.listdir(source_dir)[nb_train:nb_train+nb_val]"
   ]
  },
  {
   "cell_type": "code",
   "execution_count": null,
   "metadata": {},
   "outputs": [],
   "source": [
    "def copy_img(image, dest_dir):\n",
    "    source_path = os.path.join(source_dir, image)\n",
    "    destination_path = os.path.join(dest_dir, image)\n",
    "    shutil.copy(source_path, destination_path)\n",
    "    print(f\"Copied {image}\")\n",
    "    return source_path, destination_path"
   ]
  },
  {
   "cell_type": "code",
   "execution_count": null,
   "metadata": {},
   "outputs": [],
   "source": [
    "def read_img(source_path):\n",
    "    im = cv2.imread(source_path)\n",
    "    h, w, c = im.shape\n",
    "    return h, w, c"
   ]
  },
  {
   "cell_type": "code",
   "execution_count": 40,
   "metadata": {},
   "outputs": [],
   "source": [
    "def make_directories_yolo():\n",
    "    os.mkdir(destination_dir + '/images')\n",
    "    os.mkdir(destination_dir + '/images/train')\n",
    "    os.mkdir(destination_dir + '/images/val')\n",
    "\n",
    "    os.mkdir(destination_dir + '/labels')\n",
    "    os.mkdir(destination_dir + '/labels/train')\n",
    "    os.mkdir(destination_dir + '/labels/val')"
   ]
  },
  {
   "cell_type": "code",
   "execution_count": 41,
   "metadata": {},
   "outputs": [],
   "source": [
    "\n",
    "def make_data_yolo(mode, img_list):\n",
    "    imgs_dir = destination_dir + f'/images/{mode}'\n",
    "    labels_dir = destination_dir + f'/labels/{mode}'\n",
    "\n",
    "    for image in img_list:\n",
    "        source_path, destination_path = copy_img(image, imgs_dir)\n",
    "        h, w, c = read_img(source_path)\n",
    "        image_name, _ = os.path.splitext(image)\n",
    "\n",
    "        try:\n",
    "            for _, row in labels.iterrows():\n",
    "                image_id = row['image_id']\n",
    "                if image_id == image_name:\n",
    "                    xmin, ymin, xmax, ymax = row['xmin'], row['ymin'], row['xmax'], row['ymax']\n",
    "                    # Calculate bounding box center and normalized coordinates\n",
    "                    x_center = (int(xmin) + int(xmax)) / 2\n",
    "                    y_center = (int(ymin) + int(ymax)) / 2\n",
    "                    width_normalized = (int(xmax) - int(xmin)) / w\n",
    "                    height_normalized = (int(ymax) - int(ymin)) / h\n",
    "\n",
    "                    line = f\"0 {x_center / w:.6f} {y_center / h:.6f} {width_normalized:.6f} {height_normalized:.6f}\"\n",
    "\n",
    "                    with open(labels_dir + f\"/{image_name}.txt\", 'w') as output_file:\n",
    "                        # Write each element of the list (row) with comma separation and newline\n",
    "                        output_file.write(line)\n",
    "\n",
    "        except KeyError:\n",
    "            print(f\"Error: {image_name} column not found in DataFrame.\")\n",
    "\n"
   ]
  },
  {
   "cell_type": "code",
   "execution_count": 42,
   "metadata": {},
   "outputs": [
    {
     "name": "stdout",
     "output_type": "stream",
     "text": [
      "Copied 0001954c9f4a58f7ac05358b3cda8d20.png\n",
      "tre\n",
      "Copied 00054819240f9d46378288b215dbcd3a.png\n",
      "tre\n",
      "Copied 000dbf763348037b46558bbcb6a032ac.png\n",
      "tre\n",
      "Copied 000e79208bebd8e84ce6c22fd8612a0d.png\n",
      "tre\n",
      "Copied 000f13aff94499d03e3997afc55b0aa0.png\n",
      "tre\n",
      "Copied 001013fb356cccac1cdebd62bd01b12e.png\n",
      "tre\n",
      "Copied 0011268c3abc36b40338762dd6aa9c98.png\n",
      "tre\n",
      "Copied 0013ce8ba0b7cde0ae34454178cd7c31.png\n",
      "tre\n",
      "Copied 0015333a2635501554621de57fc5c111.png\n",
      "tre\n",
      "Copied 001578e4d99c3f0043a6eff67f2354f0.png\n",
      "tre\n"
     ]
    }
   ],
   "source": [
    "make_data_yolo('train', train_imgs)\n",
    "make_data_yolo('val', val_imgs)"
   ]
  },
  {
   "cell_type": "code",
   "execution_count": null,
   "metadata": {},
   "outputs": [],
   "source": []
  }
 ],
 "metadata": {
  "kernelspec": {
   "display_name": "Python 3",
   "language": "python",
   "name": "python3"
  },
  "language_info": {
   "codemirror_mode": {
    "name": "ipython",
    "version": 3
   },
   "file_extension": ".py",
   "mimetype": "text/x-python",
   "name": "python",
   "nbconvert_exporter": "python",
   "pygments_lexer": "ipython3",
   "version": "3.9.13"
  }
 },
 "nbformat": 4,
 "nbformat_minor": 2
}
